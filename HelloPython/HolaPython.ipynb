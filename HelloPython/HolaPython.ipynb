{
 "cells": [
  {
   "cell_type": "markdown",
   "metadata": {},
   "source": [
    "# Introducción a la programación en Python"
   ]
  },
  {
   "cell_type": "markdown",
   "metadata": {},
   "source": [
    "Este es un cuaderno básico para aprender los fundamentos de la programación en Python.\n",
    "\n",
    "Python es un lenguaje de programación de alto nivel que se usa en muchos campos, incluyendo desarrollo web, ciencia de datos, inteligencia artificial, entre otros."
   ]
  },
  {
   "cell_type": "markdown",
   "metadata": {},
   "source": [
    "Para mostrar un mensaje en pantalla, usamos la función `print()`. Veamos un ejemplo:"
   ]
  },
  {
   "cell_type": "code",
   "execution_count": null,
   "metadata": {},
   "outputs": [
    {
     "name": "stdout",
     "output_type": "stream",
     "text": [
      "¡Hola, bienvenido a tu primer programa en Python!\n"
     ]
    }
   ],
   "source": [
    "print(\"¡Hola, bienvenido a tu primer programa en Python!\")"
   ]
  },
  {
   "cell_type": "markdown",
   "metadata": {},
   "source": [
    "## Variables y tipos de datos\n",
    "Por simplicidad las llamaremos variables, pero hay que recordar que siempre son objetos\n",
    "\n",
    "En Python, podemos almacenar datos en variables. Las variables pueden tener diferentes tipos de datos."
   ]
  },
  {
   "cell_type": "code",
   "execution_count": 3,
   "metadata": {},
   "outputs": [
    {
     "name": "stdout",
     "output_type": "stream",
     "text": [
      "Lula 4 33.75 True\n"
     ]
    }
   ],
   "source": [
    "nombre = \"Lula\"  # Cadena de texto (str)\n",
    "edad = 4          # Entero (int)\n",
    "peso = 33.75      # Flotante (float)\n",
    "es_pastorBelga = True  # Booleano (bool)\n",
    "\n",
    "print(nombre, edad, peso, es_pastorBelga)"
   ]
  },
  {
   "cell_type": "markdown",
   "metadata": {},
   "source": [
    "## Operadores Aritméticos"
   ]
  },
  {
   "cell_type": "code",
   "execution_count": 4,
   "metadata": {},
   "outputs": [
    {
     "name": "stdout",
     "output_type": "stream",
     "text": [
      "Suma: 13\n",
      "Resta: 7\n",
      "Multiplicación: 30\n",
      "División: 3.3333333333333335\n",
      "División Entera: 3\n",
      "Resto: 1\n",
      "Exponente: 1000\n"
     ]
    }
   ],
   "source": [
    "a = 10\n",
    "b = 3\n",
    "print(\"Suma:\", a + b)\n",
    "print(\"Resta:\", a - b)\n",
    "print(\"Multiplicación:\", a * b)\n",
    "print(\"División:\", a / b)\n",
    "print(\"División Entera:\", a // b)\n",
    "print(\"Resto:\", a % b)\n",
    "print(\"Exponente:\", a ** b)\n"
   ]
  },
  {
   "cell_type": "markdown",
   "metadata": {},
   "source": [
    "## Cadenas de Texto (Strings)\n",
    "Las cadenas de texto nos permiten almacenar y manipular texto."
   ]
  },
  {
   "cell_type": "code",
   "execution_count": 5,
   "metadata": {},
   "outputs": [
    {
     "name": "stdout",
     "output_type": "stream",
     "text": [
      "HOLA, PYTHON!\n",
      "hola, python!\n",
      "Hola, Mundo!\n"
     ]
    }
   ],
   "source": [
    "texto = \"Hola, Python!\"\n",
    "print(texto.upper())   # Convertir a mayúsculas\n",
    "print(texto.lower())   # Convertir a minúsculas\n",
    "print(texto.replace(\"Python\", \"Mundo\"))  # Reemplazar una palabra"
   ]
  },
  {
   "cell_type": "markdown",
   "metadata": {},
   "source": [
    "## Estructuras de Control\n",
    "### condicionales (if, elif, else)"
   ]
  },
  {
   "cell_type": "code",
   "execution_count": 7,
   "metadata": {},
   "outputs": [
    {
     "name": "stdout",
     "output_type": "stream",
     "text": [
      "Eres mayor de edad\n"
     ]
    }
   ],
   "source": [
    "edad = int(input(\"¿Cuál es tu edad? \"))\n",
    "if edad >= 18:\n",
    "    print(\"Eres mayor de edad\")\n",
    "else:\n",
    "    print(\"Eres menor de edad\")\n"
   ]
  },
  {
   "cell_type": "markdown",
   "metadata": {},
   "source": [
    "## Bucles (for y while)\n",
    "### Bucle `for`\n",
    "\n",
    "### Bucle `while`"
   ]
  },
  {
   "cell_type": "code",
   "execution_count": 10,
   "metadata": {},
   "outputs": [
    {
     "name": "stdout",
     "output_type": "stream",
     "text": [
      "Número: 0\n",
      "Número: 1\n",
      "Número: 2\n",
      "Número: 3\n",
      "Número: 4\n"
     ]
    }
   ],
   "source": [
    "# Bucle `for`\n",
    "for i in range(5):\n",
    "    print(\"Número:\", i)"
   ]
  },
  {
   "cell_type": "code",
   "execution_count": 8,
   "metadata": {},
   "outputs": [
    {
     "name": "stdout",
     "output_type": "stream",
     "text": [
      "Contador: 0\n",
      "Contador: 1\n",
      "Contador: 2\n",
      "Contador: 3\n",
      "Contador: 4\n"
     ]
    }
   ],
   "source": [
    "# Bucle `while`\n",
    "contador = 0\n",
    "while contador < 5:\n",
    "    print(\"Contador:\", contador)\n",
    "    contador += 1\n"
   ]
  },
  {
   "cell_type": "code",
   "execution_count": 9,
   "metadata": {},
   "outputs": [
    {
     "name": "stdout",
     "output_type": "stream",
     "text": [
      "manzana\n",
      "['manzana', 'banana', 'cereza', 'naranja']\n",
      "('rojo', 'verde', 'azul')\n"
     ]
    }
   ],
   "source": [
    "# =======================\n",
    "# Listas y Tuplas\n",
    "# =======================\n",
    "# Las listas son colecciones de elementos que se pueden modificar.\n",
    "\n",
    "frutas = [\"manzana\", \"banana\", \"cereza\"]\n",
    "print(frutas[0])  # Accediendo al primer elemento\n",
    "frutas.append(\"naranja\")  # Agregando un elemento\n",
    "print(frutas)\n",
    "\n",
    "# Las tuplas son similares a las listas, pero son inmutables (no se pueden modificar).\n",
    "\n",
    "colores = (\"rojo\", \"verde\", \"azul\")\n",
    "print(colores)\n",
    "\n",
    "# Ejercicio: Crea una lista de tus comidas favoritas y muestra la primera comida."
   ]
  }
 ],
 "metadata": {
  "kernelspec": {
   "display_name": "geers-env",
   "language": "python",
   "name": "python3"
  },
  "language_info": {
   "codemirror_mode": {
    "name": "ipython",
    "version": 3
   },
   "file_extension": ".py",
   "mimetype": "text/x-python",
   "name": "python",
   "nbconvert_exporter": "python",
   "pygments_lexer": "ipython3",
   "version": "3.11.3"
  }
 },
 "nbformat": 4,
 "nbformat_minor": 2
}
