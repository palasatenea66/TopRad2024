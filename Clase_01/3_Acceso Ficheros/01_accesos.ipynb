{
 "cells": [
  {
   "cell_type": "markdown",
   "id": "d5cd62ca",
   "metadata": {},
   "source": [
    "# Ejemplos de Acceso a Ficheros CSV y Excel con Pandas"
   ]
  },
  {
   "cell_type": "code",
   "execution_count": 50,
   "id": "c34f4f8e",
   "metadata": {},
   "outputs": [],
   "source": [
    "import pandas as pd"
   ]
  },
  {
   "cell_type": "markdown",
   "id": "f6954f0d",
   "metadata": {},
   "source": [
    "## Ejemplo 1: Leer un CSV con separador `;` y encabezado estándar"
   ]
  },
  {
   "cell_type": "code",
   "execution_count": 51,
   "id": "fe24f381",
   "metadata": {},
   "outputs": [
    {
     "name": "stdout",
     "output_type": "stream",
     "text": [
      "  Nombre  Edad   Ciudad\n",
      "0    Ana    25   Salta \n",
      "1   Luis    30  Rosario\n"
     ]
    }
   ],
   "source": [
    "# Fichero CSV con separador `;`\n",
    "# Contenido de ejemplo:\n",
    "# \"Nombre;Edad;Ciudad\"\n",
    "# \"Ana;25;Madrid\"\n",
    "# \"Luis;30;Barcelona\"\n",
    "\n",
    "# Leer el fichero\n",
    "ruta_csv = \"archivo1.csv\"\n",
    "df = pd.read_csv(ruta_csv, sep=\";\")\n",
    "print(df)"
   ]
  },
  {
   "cell_type": "markdown",
   "id": "b5524074",
   "metadata": {},
   "source": [
    "## Ejemplo 2: Leer un CSV con encabezado en una línea diferente"
   ]
  },
  {
   "cell_type": "code",
   "execution_count": 52,
   "id": "752fd1c2",
   "metadata": {},
   "outputs": [
    {
     "name": "stdout",
     "output_type": "stream",
     "text": [
      "  Nombre  Edad   Ciudad\n",
      "0    Ana    25    Salta\n",
      "1   Luis    30  Rosario\n"
     ]
    }
   ],
   "source": [
    "# Fichero CSV con encabezado en la tercera fila\n",
    "# Contenido de ejemplo:\n",
    "# \"# Comentario\"\n",
    "# \"# Otra línea\"\n",
    "# \"Nombre,Edad,Ciudad\"\n",
    "# \"Ana,25,Madrid\"\n",
    "# \"Luis,30,Barcelona\"\n",
    "\n",
    "ruta_csv = \"archivo2.csv\"\n",
    "df = pd.read_csv(ruta_csv, header=2)  # El encabezado está en la fila 2 (índice 0,1,2)\n",
    "print(df)"
   ]
  },
  {
   "cell_type": "markdown",
   "id": "1195c95f",
   "metadata": {},
   "source": [
    "## Ejemplo 3: Leer un Excel con una hoja específica"
   ]
  },
  {
   "cell_type": "code",
   "execution_count": 53,
   "id": "d92f1128",
   "metadata": {},
   "outputs": [
    {
     "name": "stdout",
     "output_type": "stream",
     "text": [
      "  Nombre  Edad   Ciudad\n",
      "0  Luisa    20    Salta\n",
      "1  Erica    30  Rosario\n"
     ]
    }
   ],
   "source": [
    "ruta_excel = \"archivo3.xlsx\"\n",
    "df = pd.read_excel(ruta_excel, sheet_name=\"Hoja1\")\n",
    "print(df)"
   ]
  },
  {
   "cell_type": "markdown",
   "id": "6bf9aee2",
   "metadata": {},
   "source": [
    "## Ejemplo 4: Leer un CSV con columnas específicas"
   ]
  },
  {
   "cell_type": "code",
   "execution_count": 54,
   "id": "d0a160c0",
   "metadata": {},
   "outputs": [
    {
     "name": "stdout",
     "output_type": "stream",
     "text": [
      "  Nombre   Ciudad\n",
      "0    Ana    Salta\n",
      "1   Luis  Rosario\n"
     ]
    }
   ],
   "source": [
    "# Fichero CSV con columnas adicionales\n",
    "# Contenido de ejemplo:\n",
    "# \"Nombre,Edad,Ciudad,Ocupacion\"\n",
    "# \"Ana,25,Madrid,Ingeniera\"\n",
    "# \"Luis,30,Barcelona,Profesor\"\n",
    "\n",
    "ruta_csv = \"archivo2.csv\"\n",
    "# Leer solo las columnas \"Nombre\" y \"Ciudad\"\n",
    "df = pd.read_csv(ruta_csv, header=2, usecols=[\"Nombre\", \"Ciudad\"])\n",
    "print(df)"
   ]
  }
 ],
 "metadata": {
  "kernelspec": {
   "display_name": "curso-env",
   "language": "python",
   "name": "python3"
  },
  "language_info": {
   "codemirror_mode": {
    "name": "ipython",
    "version": 3
   },
   "file_extension": ".py",
   "mimetype": "text/x-python",
   "name": "python",
   "nbconvert_exporter": "python",
   "pygments_lexer": "ipython3",
   "version": "3.12.7"
  }
 },
 "nbformat": 4,
 "nbformat_minor": 5
}
